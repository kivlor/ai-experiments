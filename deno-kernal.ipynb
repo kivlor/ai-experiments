{
 "cells": [
  {
   "cell_type": "code",
   "execution_count": 2,
   "id": "0775bd4b-e785-4e42-8b56-b00c1c8fe70e",
   "metadata": {},
   "outputs": [
    {
     "name": "stdout",
     "output_type": "stream",
     "text": [
      "[\n",
      "  { label: \"POSITIVE\", score: 0.9996376037597656 },\n",
      "  { label: \"NEGATIVE\", score: 0.9978370070457458 },\n",
      "  { label: \"NEGATIVE\", score: 0.9820219278335571 }\n",
      "]\n"
     ]
    }
   ],
   "source": [
    "import { pipeline, env } from \"https://cdn.jsdelivr.net/npm/@xenova/transformers\";\n",
    "\n",
    "env.allowLocalModels = false\n",
    "env.backends.onnx.wasm.numThreads = 1;\n",
    "\n",
    "const classifier = await pipeline(\"text-classification\", \"Xenova/distilbert-base-uncased-finetuned-sst-2-english\");\n",
    "\n",
    "const input = [\"I love Transformers.js\", \"I hate Transformers.js\", \"I don't mind Transformers.js\"];\n",
    "const result = await classifier(input);\n",
    "\n",
    "console.log(result);\n"
   ]
  }
 ],
 "metadata": {
  "kernelspec": {
   "display_name": "Deno",
   "language": "typescript",
   "name": "deno"
  },
  "language_info": {
   "file_extension": ".ts",
   "mimetype": "text/x.typescript",
   "name": "typescript",
   "nb_converter": "script",
   "pygments_lexer": "typescript",
   "version": "5.2.2"
  }
 },
 "nbformat": 4,
 "nbformat_minor": 5
}
