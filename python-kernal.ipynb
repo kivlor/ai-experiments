{
 "cells": [
  {
   "cell_type": "code",
   "execution_count": 4,
   "id": "09ddeec5-a2a4-4acc-a540-6cb5b929aad0",
   "metadata": {},
   "outputs": [
    {
     "name": "stdout",
     "output_type": "stream",
     "text": [
      "[{'label': 'POSITIVE', 'score': 0.9996380805969238}, {'label': 'NEGATIVE', 'score': 0.998199462890625}, {'label': 'NEGATIVE', 'score': 0.9850649237632751}]\n"
     ]
    }
   ],
   "source": [
    "from transformers import pipeline\n",
    "\n",
    "classifier = pipeline(task=\"text-classification\", model=\"distilbert-base-uncased-finetuned-sst-2-english\")\n",
    "\n",
    "input = [\"I love Transformers.js\", \"I hate Transformers.js\", \"I don't mind Transformers.js\"]\n",
    "result = classifier(input)\n",
    "\n",
    "print(result)\n"
   ]
  }
 ],
 "metadata": {
  "kernelspec": {
   "display_name": "Python 3 (ipykernel)",
   "language": "python",
   "name": "python3"
  },
  "language_info": {
   "codemirror_mode": {
    "name": "ipython",
    "version": 3
   },
   "file_extension": ".py",
   "mimetype": "text/x-python",
   "name": "python",
   "nbconvert_exporter": "python",
   "pygments_lexer": "ipython3",
   "version": "3.11.6"
  }
 },
 "nbformat": 4,
 "nbformat_minor": 5
}
